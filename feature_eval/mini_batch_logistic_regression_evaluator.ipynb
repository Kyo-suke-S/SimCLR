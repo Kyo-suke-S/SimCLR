{
  "cells": [
    {
      "cell_type": "markdown",
      "metadata": {
        "colab_type": "text",
        "id": "view-in-github"
      },
      "source": [
        "<a href=\"https://colab.research.google.com/github/sthalles/SimCLR/blob/simclr-refactor/feature_eval/mini_batch_logistic_regression_evaluator.ipynb\" target=\"_parent\"><img src=\"https://colab.research.google.com/assets/colab-badge.svg\" alt=\"Open In Colab\"/></a>"
      ]
    },
    {
      "cell_type": "code",
      "execution_count": 1,
      "metadata": {
        "id": "YUemQib7ZE4D"
      },
      "outputs": [],
      "source": [
        "import torch\n",
        "import sys\n",
        "import numpy as np\n",
        "import os\n",
        "import yaml\n",
        "import matplotlib.pyplot as plt\n",
        "import torchvision"
      ]
    },
    {
      "cell_type": "code",
      "execution_count": 11,
      "metadata": {
        "colab": {
          "base_uri": "https://localhost:8080/"
        },
        "id": "WSgRE1CcLqdS",
        "outputId": "48a2ae15-f672-495b-8d43-9a23b85fa3b8"
      },
      "outputs": [
        {
          "name": "stdout",
          "output_type": "stream",
          "text": [
            "Requirement already satisfied: gdown in /usr/local/lib/python3.6/dist-packages (3.6.4)\n",
            "Requirement already satisfied: six in /usr/local/lib/python3.6/dist-packages (from gdown) (1.15.0)\n",
            "Requirement already satisfied: requests in /usr/local/lib/python3.6/dist-packages (from gdown) (2.23.0)\n",
            "Requirement already satisfied: tqdm in /usr/local/lib/python3.6/dist-packages (from gdown) (4.41.1)\n",
            "Requirement already satisfied: certifi>=2017.4.17 in /usr/local/lib/python3.6/dist-packages (from requests->gdown) (2020.12.5)\n",
            "Requirement already satisfied: urllib3!=1.25.0,!=1.25.1,<1.26,>=1.21.1 in /usr/local/lib/python3.6/dist-packages (from requests->gdown) (1.24.3)\n",
            "Requirement already satisfied: chardet<4,>=3.0.2 in /usr/local/lib/python3.6/dist-packages (from requests->gdown) (3.0.4)\n",
            "Requirement already satisfied: idna<3,>=2.5 in /usr/local/lib/python3.6/dist-packages (from requests->gdown) (2.10)\n"
          ]
        }
      ],
      "source": [
        "!pip install gdown"
      ]
    },
    {
      "cell_type": "code",
      "execution_count": 12,
      "metadata": {
        "id": "NOIJEui1ZziV"
      },
      "outputs": [],
      "source": [
        "def get_file_id_by_model(folder_name):\n",
        "  file_id = {'resnet18_100-epochs_stl10': '14_nH2FkyKbt61cieQDiSbBVNP8-gtwgF',\n",
        "             'resnet18_100-epochs_cifar10': '1lc2aoVtrAetGn0PnTkOyFzPCIucOJq7C',\n",
        "             'resnet50_50-epochs_stl10': '1ByTKAUsdm_X7tLcii6oAEl5qFRqRMZSu'}\n",
        "  return file_id.get(folder_name, \"Model not found.\")"
      ]
    },
    {
      "cell_type": "code",
      "execution_count": 13,
      "metadata": {
        "colab": {
          "base_uri": "https://localhost:8080/"
        },
        "id": "G7YMxsvEZMrX",
        "outputId": "59475430-69d2-45a2-b61b-ae755d5d6e88"
      },
      "outputs": [
        {
          "name": "stdout",
          "output_type": "stream",
          "text": [
            "resnet50_50-epochs_stl10 1ByTKAUsdm_X7tLcii6oAEl5qFRqRMZSu\n"
          ]
        }
      ],
      "source": [
        "folder_name = 'resnet50_50-epochs_stl10'\n",
        "file_id = get_file_id_by_model(folder_name)\n",
        "print(folder_name, file_id)"
      ]
    },
    {
      "cell_type": "code",
      "execution_count": null,
      "metadata": {
        "colab": {
          "base_uri": "https://localhost:8080/"
        },
        "id": "PWZ8fet_YoJm",
        "outputId": "fbaeb858-221b-4d1b-dd90-001a6e713b75"
      },
      "outputs": [
        {
          "name": "stdout",
          "output_type": "stream",
          "text": [
            "checkpoint_0040.pth.tar\n",
            "config.yml\n",
            "events.out.tfevents.1610927742.4cb2c837708d.2694093.0\n",
            "resnet50_50-epochs_stl10.zip\n",
            "sample_data\n",
            "training.log\n"
          ]
        }
      ],
      "source": [
        "# download and extract model files\n",
        "os.system('gdown https://drive.google.com/uc?id={}'.format(file_id))\n",
        "os.system('unzip {}'.format(folder_name))#googleドライブからダウンロードしたものを回答-関係なし\n",
        "!ls"
      ]
    },
    {
      "cell_type": "code",
      "execution_count": 2,
      "metadata": {
        "id": "3_nypQVEv-hn"
      },
      "outputs": [],
      "source": [
        "from torch.utils.data import DataLoader\n",
        "import torchvision.transforms as transforms\n",
        "from torchvision import datasets"
      ]
    },
    {
      "cell_type": "code",
      "execution_count": 3,
      "metadata": {
        "colab": {
          "base_uri": "https://localhost:8080/"
        },
        "id": "lDfbL3w_Z0Od",
        "outputId": "7532966e-1c4a-4641-c928-4cda14c53389"
      },
      "outputs": [
        {
          "name": "stdout",
          "output_type": "stream",
          "text": [
            "Using device: cuda\n",
            "/home/shirota/SimCLR\n"
          ]
        }
      ],
      "source": [
        "device = 'cuda' if torch.cuda.is_available() else 'cpu'\n",
        "print(\"Using device:\", device)\n",
        "\n",
        "cwd = os.getcwd()\n",
        "parent_dir = os.path.dirname(cwd)\n",
        "print(parent_dir)"
      ]
    },
    {
      "cell_type": "code",
      "execution_count": null,
      "metadata": {
        "id": "BfIPl0G6_RrT"
      },
      "outputs": [],
      "source": [
        "def get_stl10_data_loaders(download, shuffle=False, batch_size=256):\n",
        "  data_dir = parent_dir+\"/datasets\"\n",
        "  train_dataset = datasets.STL10('./data', split='train', download=download,\n",
        "                                  transform=transforms.ToTensor())\n",
        "\n",
        "  train_loader = DataLoader(train_dataset, batch_size=batch_size,\n",
        "                            num_workers=0, drop_last=False, shuffle=shuffle)\n",
        "  \n",
        "  test_dataset = datasets.STL10('./data', split='test', download=download,\n",
        "                                  transform=transforms.ToTensor())\n",
        "\n",
        "  test_loader = DataLoader(test_dataset, batch_size=2*batch_size,\n",
        "                            num_workers=10, drop_last=False, shuffle=shuffle)\n",
        "  return train_loader, test_loader\n",
        "\n",
        "def get_cifar10_data_loaders(download, shuffle=False, batch_size=256):\n",
        "  train_dataset = datasets.CIFAR10('./data', train=True, download=download,\n",
        "                                  transform=transforms.ToTensor())\n",
        "\n",
        "  train_loader = DataLoader(train_dataset, batch_size=batch_size,\n",
        "                            num_workers=0, drop_last=False, shuffle=shuffle)\n",
        "  \n",
        "  test_dataset = datasets.CIFAR10('./data', train=False, download=download,\n",
        "                                  transform=transforms.ToTensor())\n",
        "\n",
        "  test_loader = DataLoader(test_dataset, batch_size=2*batch_size,\n",
        "                            num_workers=10, drop_last=False, shuffle=shuffle)\n",
        "  return train_loader, test_loader"
      ]
    },
    {
      "cell_type": "code",
      "execution_count": 4,
      "metadata": {},
      "outputs": [],
      "source": [
        "def get_stl10_data_loaders(download, shuffle=False, batch_size=256):\n",
        "  data_dir = parent_dir+\"/datasets\"\n",
        "  train_dataset = datasets.STL10(data_dir, split='train', download=download,\n",
        "                                  transform=transforms.ToTensor())\n",
        "\n",
        "  train_loader = DataLoader(train_dataset, batch_size=batch_size,\n",
        "                            num_workers=0, drop_last=False, shuffle=shuffle)\n",
        "  \n",
        "  test_dataset = datasets.STL10(data_dir, split='test', download=download,\n",
        "                                  transform=transforms.ToTensor())\n",
        "\n",
        "  test_loader = DataLoader(test_dataset, batch_size=2*batch_size,\n",
        "                            num_workers=10, drop_last=False, shuffle=shuffle)\n",
        "  return train_loader, test_loader\n",
        "\n",
        "def get_cifar10_data_loaders(download, shuffle=False, batch_size=256):\n",
        "  train_dataset = datasets.CIFAR10('./data', train=True, download=download,\n",
        "                                  transform=transforms.ToTensor())\n",
        "\n",
        "  train_loader = DataLoader(train_dataset, batch_size=batch_size,\n",
        "                            num_workers=0, drop_last=False, shuffle=shuffle)\n",
        "  \n",
        "  test_dataset = datasets.CIFAR10('./data', train=False, download=download,\n",
        "                                  transform=transforms.ToTensor())\n",
        "\n",
        "  test_loader = DataLoader(test_dataset, batch_size=2*batch_size,\n",
        "                            num_workers=10, drop_last=False, shuffle=shuffle)\n",
        "  return train_loader, test_loader"
      ]
    },
    {
      "cell_type": "code",
      "execution_count": 10,
      "metadata": {
        "id": "6N8lYkbmDTaK"
      },
      "outputs": [
        {
          "name": "stdout",
          "output_type": "stream",
          "text": [
            "resnet18\n"
          ]
        }
      ],
      "source": [
        "config_yml = \"./config2.yml\"\n",
        "with open(os.path.join(config_yml)) as file:\n",
        "  config = yaml.load(file, Loader=yaml.SafeLoader)\n",
        "\n",
        "print(config[\"arch\"])"
      ]
    },
    {
      "cell_type": "code",
      "execution_count": 6,
      "metadata": {
        "id": "a18lPD-tIle6"
      },
      "outputs": [
        {
          "ename": "AttributeError",
          "evalue": "'dict' object has no attribute 'arch'",
          "output_type": "error",
          "traceback": [
            "\u001b[0;31m---------------------------------------------------------------------------\u001b[0m",
            "\u001b[0;31mAttributeError\u001b[0m                            Traceback (most recent call last)",
            "Cell \u001b[0;32mIn[6], line 1\u001b[0m\n\u001b[0;32m----> 1\u001b[0m \u001b[38;5;28;01mif\u001b[39;00m \u001b[43mconfig\u001b[49m\u001b[38;5;241;43m.\u001b[39;49m\u001b[43march\u001b[49m \u001b[38;5;241m==\u001b[39m \u001b[38;5;124m'\u001b[39m\u001b[38;5;124mresnet18\u001b[39m\u001b[38;5;124m'\u001b[39m:\n\u001b[1;32m      2\u001b[0m   model \u001b[38;5;241m=\u001b[39m torchvision\u001b[38;5;241m.\u001b[39mmodels\u001b[38;5;241m.\u001b[39mresnet18(pretrained\u001b[38;5;241m=\u001b[39m\u001b[38;5;28;01mFalse\u001b[39;00m, num_classes\u001b[38;5;241m=\u001b[39m\u001b[38;5;241m10\u001b[39m)\u001b[38;5;241m.\u001b[39mto(device)\n\u001b[1;32m      3\u001b[0m \u001b[38;5;28;01melif\u001b[39;00m config\u001b[38;5;241m.\u001b[39march \u001b[38;5;241m==\u001b[39m \u001b[38;5;124m'\u001b[39m\u001b[38;5;124mresnet50\u001b[39m\u001b[38;5;124m'\u001b[39m:\n",
            "\u001b[0;31mAttributeError\u001b[0m: 'dict' object has no attribute 'arch'"
          ]
        }
      ],
      "source": [
        "if config.arch == 'resnet18':\n",
        "  model = torchvision.models.resnet18(pretrained=False, num_classes=10).to(device)\n",
        "elif config.arch == 'resnet50':\n",
        "  model = torchvision.models.resnet50(pretrained=False, num_classes=10).to(device)"
      ]
    },
    {
      "cell_type": "code",
      "execution_count": 11,
      "metadata": {},
      "outputs": [],
      "source": [
        "if config[\"arch\"] == 'resnet18':\n",
        "  model = torchvision.models.resnet18(pretrained=False, num_classes=10).to(device)\n",
        "elif config[\"arch\"] == 'resnet50':\n",
        "  model = torchvision.models.resnet50(pretrained=False, num_classes=10).to(device)"
      ]
    },
    {
      "cell_type": "code",
      "execution_count": 12,
      "metadata": {
        "id": "4AIfgq41GuTT"
      },
      "outputs": [],
      "source": [
        "model_filename=parent_dir+\"/\"+config[\"model_dir\"]#SimCLR/runs/...\n",
        "checkpoint = torch.load(model_filename, map_location=device)\n",
        "#checkpoint = torch.load('checkpoint_0040.pth.tar', map_location=device)\n",
        "state_dict = checkpoint['state_dict']\n",
        "\n",
        "for k in list(state_dict.keys()):#MLP層以外を学習済みパラメータで初期化するため、その部分のパラメータの名前からbackboneを除外\n",
        "\n",
        "  if k.startswith('backbone.'):\n",
        "    if k.startswith('backbone') and not k.startswith('backbone.fc'):\n",
        "      # remove prefix\n",
        "      state_dict[k[len(\"backbone.\"):]] = state_dict[k]\n",
        "  del state_dict[k]"
      ]
    },
    {
      "cell_type": "code",
      "execution_count": 13,
      "metadata": {
        "id": "VVjA83PPJYWl"
      },
      "outputs": [],
      "source": [
        "log = model.load_state_dict(state_dict, strict=False)#strict=Falseなのでパラメータの名前が一致しない部分は無視\n",
        "assert log.missing_keys == ['fc.weight', 'fc.bias']"
      ]
    },
    {
      "cell_type": "code",
      "execution_count": null,
      "metadata": {
        "colab": {
          "base_uri": "https://localhost:8080/",
          "height": 117,
          "referenced_widgets": [
            "149b9ce8fb68473a837a77431c12281a",
            "88cd3db2831e4c13a4a634709700d6b2",
            "a88c31d74f5c40a2b24bcff5a35d216c",
            "60c6150177694717a622936b830427b5",
            "dba019efadee4fdc8c799f309b9a7e70",
            "5901c2829a554c8ebbd5926610088041",
            "957362a11d174407979cf17012bf9208",
            "a4f82234388e4701a02a9f68a177193a"
          ]
        },
        "id": "_GC0a14uWRr6",
        "outputId": "4c2558db-921c-425e-f947-6cc746d8c749"
      },
      "outputs": [
        {
          "name": "stdout",
          "output_type": "stream",
          "text": [
            "Downloading http://ai.stanford.edu/~acoates/stl10/stl10_binary.tar.gz to ./data/stl10_binary.tar.gz\n"
          ]
        },
        {
          "data": {
            "application/vnd.jupyter.widget-view+json": {
              "model_id": "149b9ce8fb68473a837a77431c12281a",
              "version_major": 2,
              "version_minor": 0
            },
            "text/plain": [
              "HBox(children=(FloatProgress(value=1.0, bar_style='info', max=1.0), HTML(value='')))"
            ]
          },
          "metadata": {
            "tags": []
          },
          "output_type": "display_data"
        },
        {
          "name": "stdout",
          "output_type": "stream",
          "text": [
            "Extracting ./data/stl10_binary.tar.gz to ./data\n",
            "Files already downloaded and verified\n",
            "Dataset: stl10\n"
          ]
        }
      ],
      "source": [
        "if config.dataset_name == 'cifar10':\n",
        "  train_loader, test_loader = get_cifar10_data_loaders(download=True)\n",
        "elif config.dataset_name == 'stl10':\n",
        "  train_loader, test_loader = get_stl10_data_loaders(download=True)#\n",
        "print(\"Dataset:\", config.dataset_name)"
      ]
    },
    {
      "cell_type": "code",
      "execution_count": 15,
      "metadata": {},
      "outputs": [
        {
          "name": "stdout",
          "output_type": "stream",
          "text": [
            "Dataset: stl10\n"
          ]
        }
      ],
      "source": [
        "if config[\"dataset_name\"] == 'cifar10':\n",
        "  train_loader, test_loader = get_cifar10_data_loaders(download=True)\n",
        "elif config[\"dataset_name\"] == 'stl10':\n",
        "  train_loader, test_loader = get_stl10_data_loaders(download=True)#\n",
        "print(\"Dataset:\", config[\"dataset_name\"])"
      ]
    },
    {
      "cell_type": "code",
      "execution_count": 16,
      "metadata": {
        "id": "pYT_KsM0Mnnr"
      },
      "outputs": [],
      "source": [
        "# freeze all layers but the last fc\n",
        "for name, param in model.named_parameters():\n",
        "    if name not in ['fc.weight', 'fc.bias']:\n",
        "        param.requires_grad = False\n",
        "\n",
        "parameters = list(filter(lambda p: p.requires_grad, model.parameters()))\n",
        "assert len(parameters) == 2  # fc.weight, fc.bias"
      ]
    },
    {
      "cell_type": "code",
      "execution_count": 17,
      "metadata": {
        "id": "aPVh1S_eMRDU"
      },
      "outputs": [],
      "source": [
        "optimizer = torch.optim.Adam(model.parameters(), lr=3e-4, weight_decay=0.0008)\n",
        "criterion = torch.nn.CrossEntropyLoss().to(device)"
      ]
    },
    {
      "cell_type": "code",
      "execution_count": 18,
      "metadata": {
        "id": "edr6RhP2PdVq"
      },
      "outputs": [],
      "source": [
        "def accuracy(output, target, topk=(1,)):\n",
        "    \"\"\"Computes the accuracy over the k top predictions for the specified values of k\"\"\"\n",
        "    with torch.no_grad():\n",
        "        maxk = max(topk)\n",
        "        batch_size = target.size(0)\n",
        "\n",
        "        _, pred = output.topk(maxk, 1, True, True)\n",
        "        pred = pred.t()\n",
        "        correct = pred.eq(target.view(1, -1).expand_as(pred))\n",
        "\n",
        "        res = []\n",
        "        for k in topk:\n",
        "            correct_k = correct[:k].reshape(-1).float().sum(0, keepdim=True)\n",
        "            res.append(correct_k.mul_(100.0 / batch_size))\n",
        "        return res"
      ]
    },
    {
      "cell_type": "code",
      "execution_count": 19,
      "metadata": {
        "colab": {
          "base_uri": "https://localhost:8080/"
        },
        "id": "qOder0dAMI7X",
        "outputId": "5f723b91-5a5e-43eb-ca01-a9b5ae2f1346"
      },
      "outputs": [
        {
          "name": "stdout",
          "output_type": "stream",
          "text": [
            "Epoch 0\tTop1 Train accuracy 19.69554328918457\tTop1 Test accuracy: 34.2138671875\tTop5 test acc: 83.82568359375\n",
            "Epoch 1\tTop1 Train accuracy 43.26976013183594\tTop1 Test accuracy: 49.63623046875\tTop5 test acc: 93.056640625\n",
            "Epoch 2\tTop1 Train accuracy 53.80859375\tTop1 Test accuracy: 55.9619140625\tTop5 test acc: 95.52734375\n",
            "Epoch 3\tTop1 Train accuracy 58.863739013671875\tTop1 Test accuracy: 59.2236328125\tTop5 test acc: 96.396484375\n",
            "Epoch 4\tTop1 Train accuracy 61.187957763671875\tTop1 Test accuracy: 60.830078125\tTop5 test acc: 96.91162109375\n",
            "Epoch 5\tTop1 Train accuracy 62.741268157958984\tTop1 Test accuracy: 62.03369140625\tTop5 test acc: 97.20458984375\n",
            "Epoch 6\tTop1 Train accuracy 63.795955657958984\tTop1 Test accuracy: 63.17138671875\tTop5 test acc: 97.46337890625\n",
            "Epoch 7\tTop1 Train accuracy 64.53585052490234\tTop1 Test accuracy: 64.05517578125\tTop5 test acc: 97.63427734375\n",
            "Epoch 8\tTop1 Train accuracy 65.4710464477539\tTop1 Test accuracy: 64.384765625\tTop5 test acc: 97.63427734375\n",
            "Epoch 9\tTop1 Train accuracy 66.0719223022461\tTop1 Test accuracy: 64.7998046875\tTop5 test acc: 97.73193359375\n",
            "Epoch 10\tTop1 Train accuracy 66.6969223022461\tTop1 Test accuracy: 65.263671875\tTop5 test acc: 97.79296875\n",
            "Epoch 11\tTop1 Train accuracy 67.2437973022461\tTop1 Test accuracy: 65.6689453125\tTop5 test acc: 97.82958984375\n",
            "Epoch 12\tTop1 Train accuracy 67.5172348022461\tTop1 Test accuracy: 66.12060546875\tTop5 test acc: 97.87353515625\n",
            "Epoch 13\tTop1 Train accuracy 67.9273910522461\tTop1 Test accuracy: 66.4990234375\tTop5 test acc: 97.92236328125\n",
            "Epoch 14\tTop1 Train accuracy 68.2789535522461\tTop1 Test accuracy: 66.7919921875\tTop5 test acc: 97.92236328125\n",
            "Epoch 15\tTop1 Train accuracy 68.68681335449219\tTop1 Test accuracy: 67.060546875\tTop5 test acc: 97.94677734375\n",
            "Epoch 16\tTop1 Train accuracy 68.88212585449219\tTop1 Test accuracy: 67.37060546875\tTop5 test acc: 97.99560546875\n",
            "Epoch 17\tTop1 Train accuracy 69.13603210449219\tTop1 Test accuracy: 67.5048828125\tTop5 test acc: 98.00048828125\n",
            "Epoch 18\tTop1 Train accuracy 69.40946960449219\tTop1 Test accuracy: 67.6953125\tTop5 test acc: 98.04443359375\n",
            "Epoch 19\tTop1 Train accuracy 69.58525085449219\tTop1 Test accuracy: 67.7978515625\tTop5 test acc: 98.056640625\n",
            "Epoch 20\tTop1 Train accuracy 69.85639190673828\tTop1 Test accuracy: 67.919921875\tTop5 test acc: 98.14208984375\n",
            "Epoch 21\tTop1 Train accuracy 70.24471282958984\tTop1 Test accuracy: 67.90283203125\tTop5 test acc: 98.154296875\n",
            "Epoch 22\tTop1 Train accuracy 70.55492401123047\tTop1 Test accuracy: 68.1494140625\tTop5 test acc: 98.16650390625\n",
            "Epoch 23\tTop1 Train accuracy 70.71117401123047\tTop1 Test accuracy: 68.291015625\tTop5 test acc: 98.16650390625\n",
            "Epoch 24\tTop1 Train accuracy 70.96277618408203\tTop1 Test accuracy: 68.44970703125\tTop5 test acc: 98.19091796875\n",
            "Epoch 25\tTop1 Train accuracy 71.11902618408203\tTop1 Test accuracy: 68.681640625\tTop5 test acc: 98.19091796875\n",
            "Epoch 26\tTop1 Train accuracy 71.29251098632812\tTop1 Test accuracy: 68.92822265625\tTop5 test acc: 98.1787109375\n",
            "Epoch 27\tTop1 Train accuracy 71.40969848632812\tTop1 Test accuracy: 69.0625\tTop5 test acc: 98.23974609375\n",
            "Epoch 28\tTop1 Train accuracy 71.54641723632812\tTop1 Test accuracy: 69.20166015625\tTop5 test acc: 98.26416015625\n",
            "Epoch 29\tTop1 Train accuracy 71.76126098632812\tTop1 Test accuracy: 69.3017578125\tTop5 test acc: 98.30078125\n",
            "Epoch 30\tTop1 Train accuracy 71.82215118408203\tTop1 Test accuracy: 69.43603515625\tTop5 test acc: 98.31298828125\n",
            "Epoch 31\tTop1 Train accuracy 72.03699493408203\tTop1 Test accuracy: 69.58251953125\tTop5 test acc: 98.33740234375\n",
            "Epoch 32\tTop1 Train accuracy 72.17371368408203\tTop1 Test accuracy: 69.658203125\tTop5 test acc: 98.349609375\n",
            "Epoch 33\tTop1 Train accuracy 72.24954223632812\tTop1 Test accuracy: 69.84130859375\tTop5 test acc: 98.3740234375\n",
            "Epoch 34\tTop1 Train accuracy 72.32766723632812\tTop1 Test accuracy: 69.98779296875\tTop5 test acc: 98.41064453125\n",
            "Epoch 35\tTop1 Train accuracy 72.48391723632812\tTop1 Test accuracy: 69.98779296875\tTop5 test acc: 98.3984375\n",
            "Epoch 36\tTop1 Train accuracy 72.65969848632812\tTop1 Test accuracy: 70.09765625\tTop5 test acc: 98.3984375\n",
            "Epoch 37\tTop1 Train accuracy 72.65740203857422\tTop1 Test accuracy: 70.22216796875\tTop5 test acc: 98.3740234375\n",
            "Epoch 38\tTop1 Train accuracy 72.77229309082031\tTop1 Test accuracy: 70.27099609375\tTop5 test acc: 98.3984375\n",
            "Epoch 39\tTop1 Train accuracy 72.81135559082031\tTop1 Test accuracy: 70.31982421875\tTop5 test acc: 98.3935546875\n",
            "Epoch 40\tTop1 Train accuracy 72.82858276367188\tTop1 Test accuracy: 70.39306640625\tTop5 test acc: 98.38134765625\n",
            "Epoch 41\tTop1 Train accuracy 72.99977111816406\tTop1 Test accuracy: 70.49560546875\tTop5 test acc: 98.40576171875\n",
            "Epoch 42\tTop1 Train accuracy 73.05836486816406\tTop1 Test accuracy: 70.61767578125\tTop5 test acc: 98.369140625\n",
            "Epoch 43\tTop1 Train accuracy 73.15602111816406\tTop1 Test accuracy: 70.61279296875\tTop5 test acc: 98.40576171875\n",
            "Epoch 44\tTop1 Train accuracy 73.32950592041016\tTop1 Test accuracy: 70.673828125\tTop5 test acc: 98.40576171875\n",
            "Epoch 45\tTop1 Train accuracy 73.42716217041016\tTop1 Test accuracy: 70.8349609375\tTop5 test acc: 98.43017578125\n",
            "Epoch 46\tTop1 Train accuracy 73.54434967041016\tTop1 Test accuracy: 70.92041015625\tTop5 test acc: 98.4423828125\n",
            "Epoch 47\tTop1 Train accuracy 73.60294342041016\tTop1 Test accuracy: 71.04248046875\tTop5 test acc: 98.47900390625\n",
            "Epoch 48\tTop1 Train accuracy 73.73966217041016\tTop1 Test accuracy: 71.15234375\tTop5 test acc: 98.515625\n",
            "Epoch 49\tTop1 Train accuracy 73.78102111816406\tTop1 Test accuracy: 71.23779296875\tTop5 test acc: 98.515625\n",
            "Epoch 50\tTop1 Train accuracy 73.76148986816406\tTop1 Test accuracy: 71.28173828125\tTop5 test acc: 98.52783203125\n",
            "Epoch 51\tTop1 Train accuracy 73.82238006591797\tTop1 Test accuracy: 71.318359375\tTop5 test acc: 98.52783203125\n",
            "Epoch 52\tTop1 Train accuracy 73.84191131591797\tTop1 Test accuracy: 71.533203125\tTop5 test acc: 98.55224609375\n",
            "Epoch 53\tTop1 Train accuracy 73.95909881591797\tTop1 Test accuracy: 71.56982421875\tTop5 test acc: 98.564453125\n",
            "Epoch 54\tTop1 Train accuracy 74.03722381591797\tTop1 Test accuracy: 71.6748046875\tTop5 test acc: 98.564453125\n",
            "Epoch 55\tTop1 Train accuracy 74.17394256591797\tTop1 Test accuracy: 71.7236328125\tTop5 test acc: 98.564453125\n",
            "Epoch 56\tTop1 Train accuracy 74.23253631591797\tTop1 Test accuracy: 71.8212890625\tTop5 test acc: 98.564453125\n",
            "Epoch 57\tTop1 Train accuracy 74.27159881591797\tTop1 Test accuracy: 71.796875\tTop5 test acc: 98.5888671875\n",
            "Epoch 58\tTop1 Train accuracy 74.33019256591797\tTop1 Test accuracy: 71.8701171875\tTop5 test acc: 98.60107421875\n",
            "Epoch 59\tTop1 Train accuracy 74.38878631591797\tTop1 Test accuracy: 71.943359375\tTop5 test acc: 98.60107421875\n",
            "Epoch 60\tTop1 Train accuracy 74.48644256591797\tTop1 Test accuracy: 72.02880859375\tTop5 test acc: 98.61328125\n",
            "Epoch 61\tTop1 Train accuracy 74.62316131591797\tTop1 Test accuracy: 72.05322265625\tTop5 test acc: 98.5888671875\n",
            "Epoch 62\tTop1 Train accuracy 74.75758361816406\tTop1 Test accuracy: 72.08251953125\tTop5 test acc: 98.5888671875\n",
            "Epoch 63\tTop1 Train accuracy 74.83570861816406\tTop1 Test accuracy: 72.03857421875\tTop5 test acc: 98.5888671875\n",
            "Epoch 64\tTop1 Train accuracy 74.93336486816406\tTop1 Test accuracy: 72.06298828125\tTop5 test acc: 98.5888671875\n",
            "Epoch 65\tTop1 Train accuracy 74.97242736816406\tTop1 Test accuracy: 72.099609375\tTop5 test acc: 98.55224609375\n",
            "Epoch 66\tTop1 Train accuracy 75.03102111816406\tTop1 Test accuracy: 72.11181640625\tTop5 test acc: 98.564453125\n",
            "Epoch 67\tTop1 Train accuracy 75.16773986816406\tTop1 Test accuracy: 72.099609375\tTop5 test acc: 98.55224609375\n",
            "Epoch 68\tTop1 Train accuracy 75.14820861816406\tTop1 Test accuracy: 72.13623046875\tTop5 test acc: 98.55224609375\n",
            "Epoch 69\tTop1 Train accuracy 75.16773986816406\tTop1 Test accuracy: 72.23388671875\tTop5 test acc: 98.55224609375\n",
            "Epoch 70\tTop1 Train accuracy 75.22403717041016\tTop1 Test accuracy: 72.23388671875\tTop5 test acc: 98.55224609375\n",
            "Epoch 71\tTop1 Train accuracy 75.34122467041016\tTop1 Test accuracy: 72.3193359375\tTop5 test acc: 98.55224609375\n",
            "Epoch 72\tTop1 Train accuracy 75.41934967041016\tTop1 Test accuracy: 72.412109375\tTop5 test acc: 98.55224609375\n",
            "Epoch 73\tTop1 Train accuracy 75.47794342041016\tTop1 Test accuracy: 72.49267578125\tTop5 test acc: 98.52783203125\n",
            "Epoch 74\tTop1 Train accuracy 75.51700592041016\tTop1 Test accuracy: 72.44384765625\tTop5 test acc: 98.5400390625\n",
            "Epoch 75\tTop1 Train accuracy 75.65372467041016\tTop1 Test accuracy: 72.49267578125\tTop5 test acc: 98.5400390625\n",
            "Epoch 76\tTop1 Train accuracy 75.77091217041016\tTop1 Test accuracy: 72.529296875\tTop5 test acc: 98.52783203125\n",
            "Epoch 77\tTop1 Train accuracy 75.77091217041016\tTop1 Test accuracy: 72.5537109375\tTop5 test acc: 98.5400390625\n",
            "Epoch 78\tTop1 Train accuracy 75.82950592041016\tTop1 Test accuracy: 72.59033203125\tTop5 test acc: 98.52783203125\n",
            "Epoch 79\tTop1 Train accuracy 75.88809967041016\tTop1 Test accuracy: 72.61474609375\tTop5 test acc: 98.5400390625\n",
            "Epoch 80\tTop1 Train accuracy 75.92716217041016\tTop1 Test accuracy: 72.66357421875\tTop5 test acc: 98.5400390625\n",
            "Epoch 81\tTop1 Train accuracy 76.06388092041016\tTop1 Test accuracy: 72.6953125\tTop5 test acc: 98.52783203125\n",
            "Epoch 82\tTop1 Train accuracy 76.16153717041016\tTop1 Test accuracy: 72.73193359375\tTop5 test acc: 98.515625\n",
            "Epoch 83\tTop1 Train accuracy 76.20059967041016\tTop1 Test accuracy: 72.7685546875\tTop5 test acc: 98.515625\n",
            "Epoch 84\tTop1 Train accuracy 76.23966217041016\tTop1 Test accuracy: 72.78076171875\tTop5 test acc: 98.52783203125\n",
            "Epoch 85\tTop1 Train accuracy 76.25919342041016\tTop1 Test accuracy: 72.8369140625\tTop5 test acc: 98.5400390625\n",
            "Epoch 86\tTop1 Train accuracy 76.23966217041016\tTop1 Test accuracy: 72.8857421875\tTop5 test acc: 98.5400390625\n",
            "Epoch 87\tTop1 Train accuracy 76.31778717041016\tTop1 Test accuracy: 72.91015625\tTop5 test acc: 98.5400390625\n",
            "Epoch 88\tTop1 Train accuracy 76.35684967041016\tTop1 Test accuracy: 72.958984375\tTop5 test acc: 98.5400390625\n",
            "Epoch 89\tTop1 Train accuracy 76.39591217041016\tTop1 Test accuracy: 72.958984375\tTop5 test acc: 98.5400390625\n",
            "Epoch 90\tTop1 Train accuracy 76.49356842041016\tTop1 Test accuracy: 72.958984375\tTop5 test acc: 98.55224609375\n",
            "Epoch 91\tTop1 Train accuracy 76.53263092041016\tTop1 Test accuracy: 72.958984375\tTop5 test acc: 98.55224609375\n",
            "Epoch 92\tTop1 Train accuracy 76.61075592041016\tTop1 Test accuracy: 72.97119140625\tTop5 test acc: 98.55224609375\n",
            "Epoch 93\tTop1 Train accuracy 76.68888092041016\tTop1 Test accuracy: 73.0322265625\tTop5 test acc: 98.55224609375\n",
            "Epoch 94\tTop1 Train accuracy 76.68888092041016\tTop1 Test accuracy: 73.0078125\tTop5 test acc: 98.55224609375\n",
            "Epoch 95\tTop1 Train accuracy 76.70841217041016\tTop1 Test accuracy: 73.0322265625\tTop5 test acc: 98.55224609375\n",
            "Epoch 96\tTop1 Train accuracy 76.72794342041016\tTop1 Test accuracy: 73.056640625\tTop5 test acc: 98.52783203125\n",
            "Epoch 97\tTop1 Train accuracy 76.78653717041016\tTop1 Test accuracy: 73.04443359375\tTop5 test acc: 98.5400390625\n",
            "Epoch 98\tTop1 Train accuracy 76.86466217041016\tTop1 Test accuracy: 73.0322265625\tTop5 test acc: 98.5400390625\n",
            "Epoch 99\tTop1 Train accuracy 76.92095184326172\tTop1 Test accuracy: 73.02001953125\tTop5 test acc: 98.5400390625\n",
            "best top1 accuracy = 73.056640625, top5 accuracy at the time = 98.52783203125\n"
          ]
        }
      ],
      "source": [
        "epochs = 100\n",
        "best_top1_accuracy = 0\n",
        "best_top5_accuracy = 0\n",
        "for epoch in range(epochs):\n",
        "  top1_train_accuracy = 0\n",
        "  for counter, (x_batch, y_batch) in enumerate(train_loader):\n",
        "    x_batch = x_batch.to(device)\n",
        "    y_batch = y_batch.to(device)\n",
        "\n",
        "    logits = model(x_batch)\n",
        "    loss = criterion(logits, y_batch)\n",
        "    top1 = accuracy(logits, y_batch, topk=(1,))\n",
        "    top1_train_accuracy += top1[0]\n",
        "\n",
        "    optimizer.zero_grad()\n",
        "    loss.backward()\n",
        "    optimizer.step()\n",
        "\n",
        "  top1_train_accuracy /= (counter + 1)\n",
        "  top1_accuracy = 0\n",
        "  top5_accuracy = 0\n",
        "  for counter, (x_batch, y_batch) in enumerate(test_loader):\n",
        "    x_batch = x_batch.to(device)\n",
        "    y_batch = y_batch.to(device)\n",
        "\n",
        "    logits = model(x_batch)\n",
        "  \n",
        "    top1, top5 = accuracy(logits, y_batch, topk=(1,5))\n",
        "    top1_accuracy += top1[0]\n",
        "    top5_accuracy += top5[0]\n",
        "  \n",
        "  top1_accuracy /= (counter + 1)\n",
        "  top5_accuracy /= (counter + 1)\n",
        "  print(f\"Epoch {epoch}\\tTop1 Train accuracy {top1_train_accuracy.item()}\\tTop1 Test accuracy: {top1_accuracy.item()}\\tTop5 test acc: {top5_accuracy.item()}\")\n",
        "  if epoch == 0:\n",
        "    best_top1_accuracy = top1_accuracy\n",
        "    best_top5_accuracy = top5_accuracy\n",
        "  else:\n",
        "    if top1_accuracy > best_top1_accuracy:\n",
        "      best_top1_accuracy = top1_accuracy\n",
        "      best_top5_accuracy = top5_accuracy\n",
        "\n",
        "print(f\"best top1 accuracy = {best_top1_accuracy.item()}, top5 accuracy at the time = {best_top5_accuracy.item()}\")"
      ]
    },
    {
      "cell_type": "code",
      "execution_count": 24,
      "metadata": {},
      "outputs": [],
      "source": [
        "import re"
      ]
    },
    {
      "cell_type": "code",
      "execution_count": 28,
      "metadata": {
        "id": "dtYqHZirMNZk"
      },
      "outputs": [
        {
          "name": "stdout",
          "output_type": "stream",
          "text": [
            "best top1 accuracy = 64.375\n"
          ]
        }
      ],
      "source": [
        "keyword = \"DEBUG\"\n",
        "log_file = parent_dir+\"/runs/Jun09_17-40-46_rock9/training.log\"\n",
        "top1_accuracy = 0\n",
        "count = 0\n",
        "with open(log_file, \"r\", encoding=\"utf-8\") as f:\n",
        "    for line in f:\n",
        "        if keyword in line:\n",
        "            line = line.strip()\n",
        "            match = re.search(r\"Top1 accuracy:\\s*([0-9.]+)\", line)\n",
        "\n",
        "            if match:\n",
        "                accuracy = float(match.group(1))\n",
        "                if count == 0:\n",
        "                    top1_accuracy = accuracy\n",
        "                else:\n",
        "                    if accuracy > top1_accuracy:\n",
        "                        top1_accuracy = accuracy\n",
        "                \n",
        "                #print(f\"Top1 accuracy: {accuracy}\")\n",
        "            else:\n",
        "                print(\"Top1 accuracy の値が見つかりませんでした\")\n",
        "        count += 1\n",
        "            #print(line.strip())\n",
        "\n",
        "print(f\"best top1 accuracy = {top1_accuracy}\")\n"
      ]
    }
  ],
  "metadata": {
    "accelerator": "GPU",
    "colab": {
      "include_colab_link": true,
      "name": "Copy of mini-batch-logistic-regression-evaluator.ipynb",
      "provenance": []
    },
    "kernelspec": {
      "display_name": "simclr",
      "language": "python",
      "name": "python3"
    },
    "language_info": {
      "codemirror_mode": {
        "name": "ipython",
        "version": 3
      },
      "file_extension": ".py",
      "mimetype": "text/x-python",
      "name": "python",
      "nbconvert_exporter": "python",
      "pygments_lexer": "ipython3",
      "version": "3.9.22"
    },
    "widgets": {
      "application/vnd.jupyter.widget-state+json": {
        "149b9ce8fb68473a837a77431c12281a": {
          "model_module": "@jupyter-widgets/controls",
          "model_name": "HBoxModel",
          "state": {
            "_dom_classes": [],
            "_model_module": "@jupyter-widgets/controls",
            "_model_module_version": "1.5.0",
            "_model_name": "HBoxModel",
            "_view_count": null,
            "_view_module": "@jupyter-widgets/controls",
            "_view_module_version": "1.5.0",
            "_view_name": "HBoxView",
            "box_style": "",
            "children": [
              "IPY_MODEL_a88c31d74f5c40a2b24bcff5a35d216c",
              "IPY_MODEL_60c6150177694717a622936b830427b5"
            ],
            "layout": "IPY_MODEL_88cd3db2831e4c13a4a634709700d6b2"
          }
        },
        "5901c2829a554c8ebbd5926610088041": {
          "model_module": "@jupyter-widgets/base",
          "model_name": "LayoutModel",
          "state": {
            "_model_module": "@jupyter-widgets/base",
            "_model_module_version": "1.2.0",
            "_model_name": "LayoutModel",
            "_view_count": null,
            "_view_module": "@jupyter-widgets/base",
            "_view_module_version": "1.2.0",
            "_view_name": "LayoutView",
            "align_content": null,
            "align_items": null,
            "align_self": null,
            "border": null,
            "bottom": null,
            "display": null,
            "flex": null,
            "flex_flow": null,
            "grid_area": null,
            "grid_auto_columns": null,
            "grid_auto_flow": null,
            "grid_auto_rows": null,
            "grid_column": null,
            "grid_gap": null,
            "grid_row": null,
            "grid_template_areas": null,
            "grid_template_columns": null,
            "grid_template_rows": null,
            "height": null,
            "justify_content": null,
            "justify_items": null,
            "left": null,
            "margin": null,
            "max_height": null,
            "max_width": null,
            "min_height": null,
            "min_width": null,
            "object_fit": null,
            "object_position": null,
            "order": null,
            "overflow": null,
            "overflow_x": null,
            "overflow_y": null,
            "padding": null,
            "right": null,
            "top": null,
            "visibility": null,
            "width": null
          }
        },
        "60c6150177694717a622936b830427b5": {
          "model_module": "@jupyter-widgets/controls",
          "model_name": "HTMLModel",
          "state": {
            "_dom_classes": [],
            "_model_module": "@jupyter-widgets/controls",
            "_model_module_version": "1.5.0",
            "_model_name": "HTMLModel",
            "_view_count": null,
            "_view_module": "@jupyter-widgets/controls",
            "_view_module_version": "1.5.0",
            "_view_name": "HTMLView",
            "description": "",
            "description_tooltip": null,
            "layout": "IPY_MODEL_a4f82234388e4701a02a9f68a177193a",
            "placeholder": "​",
            "style": "IPY_MODEL_957362a11d174407979cf17012bf9208",
            "value": " 2640404480/? [00:51&lt;00:00, 32685718.58it/s]"
          }
        },
        "88cd3db2831e4c13a4a634709700d6b2": {
          "model_module": "@jupyter-widgets/base",
          "model_name": "LayoutModel",
          "state": {
            "_model_module": "@jupyter-widgets/base",
            "_model_module_version": "1.2.0",
            "_model_name": "LayoutModel",
            "_view_count": null,
            "_view_module": "@jupyter-widgets/base",
            "_view_module_version": "1.2.0",
            "_view_name": "LayoutView",
            "align_content": null,
            "align_items": null,
            "align_self": null,
            "border": null,
            "bottom": null,
            "display": null,
            "flex": null,
            "flex_flow": null,
            "grid_area": null,
            "grid_auto_columns": null,
            "grid_auto_flow": null,
            "grid_auto_rows": null,
            "grid_column": null,
            "grid_gap": null,
            "grid_row": null,
            "grid_template_areas": null,
            "grid_template_columns": null,
            "grid_template_rows": null,
            "height": null,
            "justify_content": null,
            "justify_items": null,
            "left": null,
            "margin": null,
            "max_height": null,
            "max_width": null,
            "min_height": null,
            "min_width": null,
            "object_fit": null,
            "object_position": null,
            "order": null,
            "overflow": null,
            "overflow_x": null,
            "overflow_y": null,
            "padding": null,
            "right": null,
            "top": null,
            "visibility": null,
            "width": null
          }
        },
        "957362a11d174407979cf17012bf9208": {
          "model_module": "@jupyter-widgets/controls",
          "model_name": "DescriptionStyleModel",
          "state": {
            "_model_module": "@jupyter-widgets/controls",
            "_model_module_version": "1.5.0",
            "_model_name": "DescriptionStyleModel",
            "_view_count": null,
            "_view_module": "@jupyter-widgets/base",
            "_view_module_version": "1.2.0",
            "_view_name": "StyleView",
            "description_width": ""
          }
        },
        "a4f82234388e4701a02a9f68a177193a": {
          "model_module": "@jupyter-widgets/base",
          "model_name": "LayoutModel",
          "state": {
            "_model_module": "@jupyter-widgets/base",
            "_model_module_version": "1.2.0",
            "_model_name": "LayoutModel",
            "_view_count": null,
            "_view_module": "@jupyter-widgets/base",
            "_view_module_version": "1.2.0",
            "_view_name": "LayoutView",
            "align_content": null,
            "align_items": null,
            "align_self": null,
            "border": null,
            "bottom": null,
            "display": null,
            "flex": null,
            "flex_flow": null,
            "grid_area": null,
            "grid_auto_columns": null,
            "grid_auto_flow": null,
            "grid_auto_rows": null,
            "grid_column": null,
            "grid_gap": null,
            "grid_row": null,
            "grid_template_areas": null,
            "grid_template_columns": null,
            "grid_template_rows": null,
            "height": null,
            "justify_content": null,
            "justify_items": null,
            "left": null,
            "margin": null,
            "max_height": null,
            "max_width": null,
            "min_height": null,
            "min_width": null,
            "object_fit": null,
            "object_position": null,
            "order": null,
            "overflow": null,
            "overflow_x": null,
            "overflow_y": null,
            "padding": null,
            "right": null,
            "top": null,
            "visibility": null,
            "width": null
          }
        },
        "a88c31d74f5c40a2b24bcff5a35d216c": {
          "model_module": "@jupyter-widgets/controls",
          "model_name": "FloatProgressModel",
          "state": {
            "_dom_classes": [],
            "_model_module": "@jupyter-widgets/controls",
            "_model_module_version": "1.5.0",
            "_model_name": "FloatProgressModel",
            "_view_count": null,
            "_view_module": "@jupyter-widgets/controls",
            "_view_module_version": "1.5.0",
            "_view_name": "ProgressView",
            "bar_style": "info",
            "description": "",
            "description_tooltip": null,
            "layout": "IPY_MODEL_5901c2829a554c8ebbd5926610088041",
            "max": 1,
            "min": 0,
            "orientation": "horizontal",
            "style": "IPY_MODEL_dba019efadee4fdc8c799f309b9a7e70",
            "value": 1
          }
        },
        "dba019efadee4fdc8c799f309b9a7e70": {
          "model_module": "@jupyter-widgets/controls",
          "model_name": "ProgressStyleModel",
          "state": {
            "_model_module": "@jupyter-widgets/controls",
            "_model_module_version": "1.5.0",
            "_model_name": "ProgressStyleModel",
            "_view_count": null,
            "_view_module": "@jupyter-widgets/base",
            "_view_module_version": "1.2.0",
            "_view_name": "StyleView",
            "bar_color": null,
            "description_width": "initial"
          }
        }
      }
    }
  },
  "nbformat": 4,
  "nbformat_minor": 0
}
